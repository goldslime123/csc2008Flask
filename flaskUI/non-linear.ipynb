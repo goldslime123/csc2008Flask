{
 "cells": [
  {
   "cell_type": "code",
   "execution_count": 194,
   "metadata": {},
   "outputs": [],
   "source": [
    "import numpy as np\n",
    "import pandas as pd\n",
    "from sklearn.model_selection import train_test_split\n",
    "import matplotlib.pyplot as plt\n",
    "from tensorflow.keras.layers import Dense, LSTM\n",
    "from tensorflow.keras.models import Sequential\n",
    "from tensorflow import keras"
   ]
  },
  {
   "cell_type": "code",
   "execution_count": 195,
   "metadata": {},
   "outputs": [
    {
     "name": "stdout",
     "output_type": "stream",
     "text": [
      "[[27.37 23.29]\n",
      " [28.77 20.87]\n",
      " [28.73 22.41]\n",
      " [28.13 20.35]\n",
      " [28.37 19.5 ]\n",
      " [29.07 17.68]\n",
      " [28.53 19.27]\n",
      " [27.7  19.13]\n",
      " [27.07 20.2 ]\n",
      " [28.27 21.39]\n",
      " [28.13 20.72]\n",
      " [27.33 20.3 ]\n",
      " [27.1  21.56]\n",
      " [28.53 22.15]\n",
      " [28.33 23.65]\n",
      " [27.6  24.13]\n",
      " [28.3  23.85]\n",
      " [28.77 22.79]\n",
      " [29.03 24.22]\n",
      " [27.6  23.43]\n",
      " [28.07 24.24]\n",
      " [28.63 23.02]\n",
      " [27.9  19.6 ]\n",
      " [27.57 21.4 ]\n",
      " [27.07 20.8 ]\n",
      " [28.47 22.6 ]\n",
      " [28.17 22.63]\n",
      " [27.93 22.63]]\n"
     ]
    }
   ],
   "source": [
    "# import temperature data\n",
    "data = pd.read_csv('temp/temperature.csv').values\n",
    "data = np.delete(data,0,1)\n",
    "print(data)\n",
    "n_steps = 4"
   ]
  },
  {
   "cell_type": "code",
   "execution_count": 214,
   "metadata": {},
   "outputs": [],
   "source": [
    "# split a multivariate sequence into samples\n",
    "def split_sequences(sequences, n_steps):\n",
    "    X, y = list(), list()\n",
    "    for i in range(len(sequences)):\n",
    "        # find the end of this pattern\n",
    "        end_ix = i + n_steps\n",
    "        # check if we are beyond the dataset\n",
    "        if end_ix > len(sequences)-1:\n",
    "            break\n",
    "        # gather input and output parts of the pattern\n",
    "        seq_x, seq_y = sequences[i:end_ix, :], sequences[end_ix, :]\n",
    "        X.append(seq_x)\n",
    "        y.append(seq_y)\n",
    "    return np.array(X), np.array(y)"
   ]
  },
  {
   "cell_type": "code",
   "execution_count": 233,
   "metadata": {},
   "outputs": [
    {
     "name": "stdout",
     "output_type": "stream",
     "text": [
      "[[28.07 24.24]\n",
      " [28.63 23.02]\n",
      " [27.9  19.6 ]\n",
      " [27.57 21.4 ]] [27.07 20.8 ]\n",
      "[[28.63 23.02]\n",
      " [27.9  19.6 ]\n",
      " [27.57 21.4 ]\n",
      " [27.07 20.8 ]] [28.47 22.6 ]\n",
      "[[27.9  19.6 ]\n",
      " [27.57 21.4 ]\n",
      " [27.07 20.8 ]\n",
      " [28.47 22.6 ]] [28.17 22.63]\n",
      "[[27.57 21.4 ]\n",
      " [27.07 20.8 ]\n",
      " [28.47 22.6 ]\n",
      " [28.17 22.63]] [27.93 22.63]\n"
     ]
    },
    {
     "data": {
      "text/plain": [
       "(28, 2)"
      ]
     },
     "execution_count": 233,
     "metadata": {},
     "output_type": "execute_result"
    }
   ],
   "source": [
    "n_features=2\n",
    "# convert into input/output\n",
    "X, y = split_sequences(data[:20], n_steps)\n",
    "xtest, ytest = split_sequences(data[20:], n_steps)\n",
    "# print(data[20:23])\n",
    "for i in range(len(xtest)):\n",
    "\tprint(xtest[i], ytest[i])\n",
    "# X.shape\n",
    "data.shape"
   ]
  },
  {
   "cell_type": "code",
   "execution_count": 229,
   "metadata": {},
   "outputs": [],
   "source": [
    "model = Sequential()\n",
    "model.add(LSTM(100, activation='relu', return_sequences=True, input_shape=(n_steps, n_features) ))\n",
    "model.add(LSTM(100, activation='relu'))\n",
    "model.add(Dense(n_features))\n",
    "model.compile(optimizer='adam', loss='mse')"
   ]
  },
  {
   "cell_type": "code",
   "execution_count": 230,
   "metadata": {},
   "outputs": [
    {
     "data": {
      "text/plain": [
       "<tensorflow.python.keras.callbacks.History at 0x1b7b960fc70>"
      ]
     },
     "execution_count": 230,
     "metadata": {},
     "output_type": "execute_result"
    }
   ],
   "source": [
    "# fit model\n",
    "model.fit(X, y, epochs=1000, verbose=0)\n",
    "# demonstrate prediction\n"
   ]
  },
  {
   "cell_type": "code",
   "execution_count": 231,
   "metadata": {},
   "outputs": [
    {
     "name": "stdout",
     "output_type": "stream",
     "text": [
      "[[28.508886 17.485611]\n",
      " [28.511578 21.153353]\n",
      " [28.144075 23.457577]\n",
      " [27.727978 22.862825]]\n",
      "[[27.07 20.8 ]\n",
      " [28.47 22.6 ]\n",
      " [28.17 22.63]\n",
      " [27.93 22.63]]\n"
     ]
    }
   ],
   "source": [
    "yhat = model.predict(xtest, verbose=0)\n",
    "print(yhat)\n",
    "print(ytest)\n"
   ]
  },
  {
   "cell_type": "code",
   "execution_count": 232,
   "metadata": {},
   "outputs": [],
   "source": [
    "newModel = Sequential()\n",
    "newModel.add(LSTM(100,return_sequences=True,activation='relu',stateful=True,batch_input_shape=(1,None,2)))\n",
    "newModel.add(LSTM(100,return_sequences=True,activation='relu',stateful=True))\n",
    "newModel.add(Dense(n_features))\n",
    "newModel.compile(optimizer='adam', loss='mse')\n",
    "newModel.set_weights(model.get_weights())"
   ]
  },
  {
   "cell_type": "code",
   "execution_count": null,
   "metadata": {},
   "outputs": [],
   "source": [
    "lastSteps = np.empty((28,-16,2)) #includes a shift at the beginning to cover the gap \n",
    "lastSteps[:,:4] = X[:,-4:] #the initial shift steps are filled with x training data \n",
    "newModel.predict(X[:,:-4,:]).reshape(1,1,2) #just to adjust states, predict with x without the last shift elements\n",
    "\n",
    "rangeLen = totalLength-trainLength-shift\n",
    "print('rangeLen: ', rangeLen)\n",
    "for i in range(rangeLen):\n",
    "    lastSteps[:,i+shift] = newModel.predict(lastSteps[:,i:i+1,:]).reshape(1,1,2)\n",
    "print(lastSteps.shape)\n",
    "forecastFromSelf = lastSteps[:,shift:,:]\n",
    "print(forecastFromSelf.shape)"
   ]
  }
 ],
 "metadata": {
  "interpreter": {
   "hash": "f595d5af2f833065b3dc99e00e6ef100489811a3e3305d5059ce8c0cce6cb436"
  },
  "kernelspec": {
   "display_name": "Python 3.9.7 64-bit",
   "language": "python",
   "name": "python3"
  },
  "language_info": {
   "codemirror_mode": {
    "name": "ipython",
    "version": 3
   },
   "file_extension": ".py",
   "mimetype": "text/x-python",
   "name": "python",
   "nbconvert_exporter": "python",
   "pygments_lexer": "ipython3",
   "version": "3.9.7"
  },
  "orig_nbformat": 4
 },
 "nbformat": 4,
 "nbformat_minor": 2
}
