{
 "cells": [
  {
   "cell_type": "code",
   "execution_count": 449,
   "metadata": {},
   "outputs": [],
   "source": [
    "import numpy as np\n",
    "import pandas as pd\n",
    "from sklearn.model_selection import train_test_split\n",
    "import matplotlib.pyplot as plt\n",
    "from tensorflow.keras.layers import Dense, LSTM\n",
    "from tensorflow.keras.models import Sequential\n",
    "from tensorflow import keras\n",
    "from sklearn.metrics import mean_squared_error"
   ]
  },
  {
   "cell_type": "code",
   "execution_count": 437,
   "metadata": {},
   "outputs": [
    {
     "name": "stdout",
     "output_type": "stream",
     "text": [
      "[[27.37 23.29]\n",
      " [28.77 20.87]\n",
      " [28.73 22.41]\n",
      " [28.13 20.35]\n",
      " [28.37 19.5 ]\n",
      " [29.07 17.68]\n",
      " [28.53 19.27]\n",
      " [27.7  19.13]\n",
      " [27.07 20.2 ]\n",
      " [28.27 21.39]\n",
      " [28.13 20.72]\n",
      " [27.33 20.3 ]\n",
      " [27.1  21.56]\n",
      " [28.53 22.15]\n",
      " [28.33 23.65]\n",
      " [27.6  24.13]\n",
      " [28.3  23.85]\n",
      " [28.77 22.79]\n",
      " [29.03 24.22]\n",
      " [27.6  23.43]\n",
      " [28.07 24.24]\n",
      " [28.63 23.02]\n",
      " [27.9  19.6 ]\n",
      " [27.57 21.4 ]\n",
      " [27.07 20.8 ]\n",
      " [28.47 22.6 ]\n",
      " [28.17 22.63]\n",
      " [27.93 22.63]]\n"
     ]
    }
   ],
   "source": [
    "# import temperature data\n",
    "data = pd.read_csv('temp/temperature.csv').values\n",
    "data = np.delete(data,0,1)\n",
    "print(data)\n",
    "n_steps = 4"
   ]
  },
  {
   "cell_type": "code",
   "execution_count": 438,
   "metadata": {},
   "outputs": [],
   "source": [
    "# split a multivariate sequence into samples\n",
    "def split_sequences(sequences, n_steps):\n",
    "    x, y = list(), list()\n",
    "    for i in range(len(sequences)):\n",
    "        # find the end of this pattern\n",
    "        end_ix = i + n_steps\n",
    "        # check if we are beyond the dataset\n",
    "        if end_ix > len(sequences)-1:\n",
    "            break\n",
    "        # gather input and output parts of the pattern\n",
    "        seq_x, seq_y = sequences[i:end_ix, :], sequences[end_ix, :]\n",
    "        x.append(seq_x)\n",
    "        y.append(seq_y)\n",
    "    return np.array(x), np.array(y)"
   ]
  },
  {
   "cell_type": "code",
   "execution_count": 439,
   "metadata": {},
   "outputs": [
    {
     "name": "stdout",
     "output_type": "stream",
     "text": [
      "[[27.37 23.29]\n",
      " [28.77 20.87]\n",
      " [28.73 22.41]\n",
      " [28.13 20.35]] [28.37 19.5 ]\n",
      "[[28.77 20.87]\n",
      " [28.73 22.41]\n",
      " [28.13 20.35]\n",
      " [28.37 19.5 ]] [29.07 17.68]\n",
      "[[28.73 22.41]\n",
      " [28.13 20.35]\n",
      " [28.37 19.5 ]\n",
      " [29.07 17.68]] [28.53 19.27]\n",
      "[[28.13 20.35]\n",
      " [28.37 19.5 ]\n",
      " [29.07 17.68]\n",
      " [28.53 19.27]] [27.7  19.13]\n",
      "[[28.37 19.5 ]\n",
      " [29.07 17.68]\n",
      " [28.53 19.27]\n",
      " [27.7  19.13]] [27.07 20.2 ]\n",
      "[[29.07 17.68]\n",
      " [28.53 19.27]\n",
      " [27.7  19.13]\n",
      " [27.07 20.2 ]] [28.27 21.39]\n",
      "[[28.53 19.27]\n",
      " [27.7  19.13]\n",
      " [27.07 20.2 ]\n",
      " [28.27 21.39]] [28.13 20.72]\n",
      "[[27.7  19.13]\n",
      " [27.07 20.2 ]\n",
      " [28.27 21.39]\n",
      " [28.13 20.72]] [27.33 20.3 ]\n",
      "[[27.07 20.2 ]\n",
      " [28.27 21.39]\n",
      " [28.13 20.72]\n",
      " [27.33 20.3 ]] [27.1  21.56]\n",
      "[[28.27 21.39]\n",
      " [28.13 20.72]\n",
      " [27.33 20.3 ]\n",
      " [27.1  21.56]] [28.53 22.15]\n",
      "[[28.13 20.72]\n",
      " [27.33 20.3 ]\n",
      " [27.1  21.56]\n",
      " [28.53 22.15]] [28.33 23.65]\n",
      "[[27.33 20.3 ]\n",
      " [27.1  21.56]\n",
      " [28.53 22.15]\n",
      " [28.33 23.65]] [27.6  24.13]\n",
      "[[27.1  21.56]\n",
      " [28.53 22.15]\n",
      " [28.33 23.65]\n",
      " [27.6  24.13]] [28.3  23.85]\n",
      "[[28.53 22.15]\n",
      " [28.33 23.65]\n",
      " [27.6  24.13]\n",
      " [28.3  23.85]] [28.77 22.79]\n",
      "[[28.33 23.65]\n",
      " [27.6  24.13]\n",
      " [28.3  23.85]\n",
      " [28.77 22.79]] [29.03 24.22]\n",
      "[[27.6  24.13]\n",
      " [28.3  23.85]\n",
      " [28.77 22.79]\n",
      " [29.03 24.22]] [27.6  23.43]\n",
      "[[28.3  23.85]\n",
      " [28.77 22.79]\n",
      " [29.03 24.22]\n",
      " [27.6  23.43]] [28.07 24.24]\n",
      "[[28.77 22.79]\n",
      " [29.03 24.22]\n",
      " [27.6  23.43]\n",
      " [28.07 24.24]] [28.63 23.02]\n",
      "[[29.03 24.22]\n",
      " [27.6  23.43]\n",
      " [28.07 24.24]\n",
      " [28.63 23.02]] [27.9 19.6]\n",
      "[[27.6  23.43]\n",
      " [28.07 24.24]\n",
      " [28.63 23.02]\n",
      " [27.9  19.6 ]] [27.57 21.4 ]\n",
      "[[28.07 24.24]\n",
      " [28.63 23.02]\n",
      " [27.9  19.6 ]\n",
      " [27.57 21.4 ]] [27.07 20.8 ]\n",
      "[[28.63 23.02]\n",
      " [27.9  19.6 ]\n",
      " [27.57 21.4 ]\n",
      " [27.07 20.8 ]] [28.47 22.6 ]\n",
      "[[27.9  19.6 ]\n",
      " [27.57 21.4 ]\n",
      " [27.07 20.8 ]\n",
      " [28.47 22.6 ]] [28.17 22.63]\n",
      "[[27.57 21.4 ]\n",
      " [27.07 20.8 ]\n",
      " [28.47 22.6 ]\n",
      " [28.17 22.63]] [27.93 22.63]\n",
      "2\n"
     ]
    }
   ],
   "source": [
    "\n",
    "# convert into input/output\n",
    "x, y = split_sequences(data, n_steps)\n",
    "\n",
    "\n",
    "# print(data[20:23])\n",
    "for i in range(len(x)):\n",
    "\tprint(x[i], y[i])\n",
    "n_features=x.shape[2]\n",
    "# X.shape\n",
    "data.shape\n",
    "print(x.shape[2])"
   ]
  },
  {
   "cell_type": "code",
   "execution_count": 440,
   "metadata": {},
   "outputs": [],
   "source": [
    "model = Sequential()\n",
    "model.add(LSTM(100,return_sequences=True, input_shape=(n_steps, n_features) ))\n",
    "model.add(LSTM(100))\n",
    "model.add(Dense(n_features))\n",
    "model.compile(optimizer='adam', loss='mse')"
   ]
  },
  {
   "cell_type": "code",
   "execution_count": 441,
   "metadata": {},
   "outputs": [
    {
     "data": {
      "text/plain": [
       "<tensorflow.python.keras.callbacks.History at 0x1b3edc63a58>"
      ]
     },
     "execution_count": 441,
     "metadata": {},
     "output_type": "execute_result"
    }
   ],
   "source": [
    "# fit model\n",
    "model.fit(x,y,epochs=1000, verbose=0)\n",
    "# demonstrate prediction"
   ]
  },
  {
   "cell_type": "code",
   "execution_count": 442,
   "metadata": {},
   "outputs": [
    {
     "name": "stdout",
     "output_type": "stream",
     "text": [
      "[[28.064434 21.70397 ]]\n"
     ]
    }
   ],
   "source": [
    "xinput=np.array([[27.37,23.29]\n",
    ",[28.77,20.87]\n",
    ",[28.73,22.41]\n",
    ",[28.13,20.35]])\n",
    "xinput = xinput.reshape((1, n_steps, n_features))\n",
    "temp = model.predict(xinput, verbose= 0)\n",
    "print(temp)\n"
   ]
  },
  {
   "cell_type": "code",
   "execution_count": 443,
   "metadata": {},
   "outputs": [],
   "source": [
    "newModel = Sequential()\n",
    "newModel.add(LSTM(100,return_sequences=True,batch_input_shape=(1,4,2),stateful=True))\n",
    "newModel.add(LSTM(100))\n",
    "newModel.add(Dense(n_features))\n",
    "newModel.compile(optimizer='adam', loss='mean_squared_error')\n",
    "newModel.set_weights(model.get_weights())"
   ]
  },
  {
   "cell_type": "code",
   "execution_count": 444,
   "metadata": {},
   "outputs": [
    {
     "name": "stdout",
     "output_type": "stream",
     "text": [
      "[[27.57 21.4 ]\n",
      " [27.07 20.8 ]\n",
      " [28.47 22.6 ]\n",
      " [28.17 22.63]]\n",
      "[27.07       20.8        28.47       22.6        28.17       22.63\n",
      " 28.06443405 21.70396996]\n",
      "[[[27.07       20.8       ]\n",
      "  [28.47       22.6       ]\n",
      "  [28.17       22.63      ]\n",
      "  [28.06443405 21.70396996]]]\n"
     ]
    }
   ],
   "source": [
    "newtemp = x[-1]\n",
    "print(newtemp)\n",
    "pp=np.delete(newtemp, obj=[0,0,1])\n",
    "pp=pp.flatten()\n",
    "pp=np.append(pp, values = temp.flatten())\n",
    "print(pp)\n",
    "pp.shape\n",
    "pp=pp.reshape((1, n_steps, n_features))\n",
    "print(pp)\n",
    "\n"
   ]
  },
  {
   "cell_type": "code",
   "execution_count": 445,
   "metadata": {},
   "outputs": [],
   "source": [
    "predict_the_future = newModel.predict(pp, verbose=0)\n",
    "\n"
   ]
  },
  {
   "cell_type": "code",
   "execution_count": 446,
   "metadata": {},
   "outputs": [
    {
     "name": "stdout",
     "output_type": "stream",
     "text": [
      "[[28.064049 21.703669]]\n",
      "[28.064049 21.703669 28.074104 21.711342]\n",
      "[28.064049 21.703669 28.074104 21.711342 28.064049 21.703669]\n",
      "[28.064049 21.703669 28.074104 21.711342 28.064049 21.703669 28.064049\n",
      " 21.703669]\n",
      "[28.064049 21.703669 28.074104 21.711342 28.064049 21.703669 28.064049\n",
      " 21.703669 28.064049 21.703669]\n",
      "[28.064049 21.703669 28.074104 21.711342 28.064049 21.703669 28.064049\n",
      " 21.703669 28.064049 21.703669 28.064049 21.703669]\n",
      "[28.064049 21.703669 28.074104 21.711342 28.064049 21.703669 28.064049\n",
      " 21.703669 28.064049 21.703669 28.064049 21.703669 28.064049 21.703669]\n",
      "[28.064049 21.703669 28.074104 21.711342 28.064049 21.703669 28.064049\n",
      " 21.703669 28.064049 21.703669 28.064049 21.703669 28.064049 21.703669\n",
      " 28.064049 21.703669]\n",
      "[28.064049 21.703669 28.074104 21.711342 28.064049 21.703669 28.064049\n",
      " 21.703669 28.064049 21.703669 28.064049 21.703669 28.064049 21.703669\n",
      " 28.064049 21.703669 28.064049 21.703669]\n"
     ]
    }
   ],
   "source": [
    "tt = np.copy(predict_the_future)\n",
    "print(tt)\n",
    "for i in range(8):\n",
    "    pp=np.delete(newtemp, obj=[0,0,1])\n",
    "    pp=pp.flatten()\n",
    "    pp=np.append(pp, values = predict_the_future.flatten())\n",
    "    pp=pp.reshape((1, n_steps, n_features))\n",
    "    # print(pp)\n",
    "    predict_the_future = newModel.predict(pp, verbose=0)\n",
    "    tt = np.append(tt,predict_the_future)\n",
    "    print(tt)\n",
    "    newModel.reset_states()\n"
   ]
  },
  {
   "cell_type": "code",
   "execution_count": 447,
   "metadata": {},
   "outputs": [
    {
     "name": "stdout",
     "output_type": "stream",
     "text": [
      "[28.064049 21.703669 28.074104 21.711342 28.064049 21.703669 28.064049\n",
      " 21.703669 28.064049 21.703669 28.064049 21.703669 28.064049 21.703669\n",
      " 28.064049 21.703669 28.064049 21.703669]\n",
      "28.064049\n"
     ]
    }
   ],
   "source": [
    "tt = tt.flatten()\n",
    "print(tt)\n"
   ]
  },
  {
   "cell_type": "code",
   "execution_count": 450,
   "metadata": {},
   "outputs": [
    {
     "name": "stdout",
     "output_type": "stream",
     "text": [
      "heelo\n"
     ]
    }
   ],
   "source": []
  },
  {
   "cell_type": "code",
   "execution_count": null,
   "metadata": {},
   "outputs": [],
   "source": []
  }
 ],
 "metadata": {
  "interpreter": {
   "hash": "f595d5af2f833065b3dc99e00e6ef100489811a3e3305d5059ce8c0cce6cb436"
  },
  "kernelspec": {
   "display_name": "Python 3.9.7 64-bit",
   "language": "python",
   "name": "python3"
  },
  "language_info": {
   "codemirror_mode": {
    "name": "ipython",
    "version": 3
   },
   "file_extension": ".py",
   "mimetype": "text/x-python",
   "name": "python",
   "nbconvert_exporter": "python",
   "pygments_lexer": "ipython3",
   "version": "3.9.7"
  },
  "orig_nbformat": 4
 },
 "nbformat": 4,
 "nbformat_minor": 2
}
