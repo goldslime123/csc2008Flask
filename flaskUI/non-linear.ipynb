{
 "cells": [
  {
   "cell_type": "code",
   "execution_count": 101,
   "metadata": {},
   "outputs": [],
   "source": [
    "import numpy as np\n",
    "import pandas as pd\n",
    "from sklearn.model_selection import train_test_split\n",
    "import matplotlib.pyplot as plt\n",
    "from tensorflow.keras.layers import Dense, LSTM\n",
    "from tensorflow.keras.models import Sequential\n",
    "from tensorflow import keras"
   ]
  },
  {
   "cell_type": "code",
   "execution_count": 253,
   "metadata": {},
   "outputs": [
    {
     "name": "stdout",
     "output_type": "stream",
     "text": [
      "[[27.37 23.29]\n",
      " [28.77 20.87]\n",
      " [28.73 22.41]\n",
      " [28.13 20.35]\n",
      " [28.37 19.5 ]\n",
      " [29.07 17.68]\n",
      " [28.53 19.27]\n",
      " [27.7  19.13]\n",
      " [27.07 20.2 ]\n",
      " [28.27 21.39]\n",
      " [28.13 20.72]\n",
      " [27.33 20.3 ]\n",
      " [27.1  21.56]\n",
      " [28.53 22.15]\n",
      " [28.33 23.65]\n",
      " [27.6  24.13]\n",
      " [28.3  23.85]\n",
      " [28.77 22.79]\n",
      " [29.03 24.22]\n",
      " [27.6  23.43]\n",
      " [28.07 24.24]\n",
      " [28.63 23.02]\n",
      " [27.9  19.6 ]\n",
      " [27.57 21.4 ]\n",
      " [27.07 20.8 ]\n",
      " [28.47 22.6 ]\n",
      " [28.17 22.63]\n",
      " [27.93 22.63]]\n"
     ]
    }
   ],
   "source": [
    "# import temperature data\n",
    "data = pd.read_csv('temp/temperature.csv').values\n",
    "data = np.delete(data,0,1)\n",
    "print(data)\n",
    "n_steps = 4"
   ]
  },
  {
   "cell_type": "code",
   "execution_count": 254,
   "metadata": {},
   "outputs": [],
   "source": [
    "# split a multivariate sequence into samples\n",
    "def split_sequences(sequences, n_steps):\n",
    "    x, y = list(), list()\n",
    "    for i in range(len(sequences)):\n",
    "        # find the end of this pattern\n",
    "        end_ix = i + n_steps\n",
    "        # check if we are beyond the dataset\n",
    "        if end_ix > len(sequences)-1:\n",
    "            break\n",
    "        # gather input and output parts of the pattern\n",
    "        seq_x, seq_y = sequences[i:end_ix, :], sequences[end_ix, :]\n",
    "        x.append(seq_x)\n",
    "        y.append(seq_y)\n",
    "    return np.array(x), np.array(y)"
   ]
  },
  {
   "cell_type": "code",
   "execution_count": 285,
   "metadata": {},
   "outputs": [
    {
     "name": "stdout",
     "output_type": "stream",
     "text": [
      "[[27.37 23.29]\n",
      " [28.77 20.87]\n",
      " [28.73 22.41]\n",
      " [28.13 20.35]] [28.37 19.5 ]\n",
      "[[28.77 20.87]\n",
      " [28.73 22.41]\n",
      " [28.13 20.35]\n",
      " [28.37 19.5 ]] [29.07 17.68]\n",
      "[[28.73 22.41]\n",
      " [28.13 20.35]\n",
      " [28.37 19.5 ]\n",
      " [29.07 17.68]] [28.53 19.27]\n",
      "[[28.13 20.35]\n",
      " [28.37 19.5 ]\n",
      " [29.07 17.68]\n",
      " [28.53 19.27]] [27.7  19.13]\n",
      "[[28.37 19.5 ]\n",
      " [29.07 17.68]\n",
      " [28.53 19.27]\n",
      " [27.7  19.13]] [27.07 20.2 ]\n",
      "[[29.07 17.68]\n",
      " [28.53 19.27]\n",
      " [27.7  19.13]\n",
      " [27.07 20.2 ]] [28.27 21.39]\n",
      "[[28.53 19.27]\n",
      " [27.7  19.13]\n",
      " [27.07 20.2 ]\n",
      " [28.27 21.39]] [28.13 20.72]\n",
      "[[27.7  19.13]\n",
      " [27.07 20.2 ]\n",
      " [28.27 21.39]\n",
      " [28.13 20.72]] [27.33 20.3 ]\n",
      "[[27.07 20.2 ]\n",
      " [28.27 21.39]\n",
      " [28.13 20.72]\n",
      " [27.33 20.3 ]] [27.1  21.56]\n",
      "[[28.27 21.39]\n",
      " [28.13 20.72]\n",
      " [27.33 20.3 ]\n",
      " [27.1  21.56]] [28.53 22.15]\n",
      "[[28.13 20.72]\n",
      " [27.33 20.3 ]\n",
      " [27.1  21.56]\n",
      " [28.53 22.15]] [28.33 23.65]\n",
      "[[27.33 20.3 ]\n",
      " [27.1  21.56]\n",
      " [28.53 22.15]\n",
      " [28.33 23.65]] [27.6  24.13]\n",
      "[[27.1  21.56]\n",
      " [28.53 22.15]\n",
      " [28.33 23.65]\n",
      " [27.6  24.13]] [28.3  23.85]\n",
      "[[28.53 22.15]\n",
      " [28.33 23.65]\n",
      " [27.6  24.13]\n",
      " [28.3  23.85]] [28.77 22.79]\n",
      "[[28.33 23.65]\n",
      " [27.6  24.13]\n",
      " [28.3  23.85]\n",
      " [28.77 22.79]] [29.03 24.22]\n",
      "[[27.6  24.13]\n",
      " [28.3  23.85]\n",
      " [28.77 22.79]\n",
      " [29.03 24.22]] [27.6  23.43]\n",
      "[[28.3  23.85]\n",
      " [28.77 22.79]\n",
      " [29.03 24.22]\n",
      " [27.6  23.43]] [28.07 24.24]\n",
      "[[28.77 22.79]\n",
      " [29.03 24.22]\n",
      " [27.6  23.43]\n",
      " [28.07 24.24]] [28.63 23.02]\n",
      "[[29.03 24.22]\n",
      " [27.6  23.43]\n",
      " [28.07 24.24]\n",
      " [28.63 23.02]] [27.9 19.6]\n",
      "[[27.6  23.43]\n",
      " [28.07 24.24]\n",
      " [28.63 23.02]\n",
      " [27.9  19.6 ]] [27.57 21.4 ]\n",
      "[[28.07 24.24]\n",
      " [28.63 23.02]\n",
      " [27.9  19.6 ]\n",
      " [27.57 21.4 ]] [27.07 20.8 ]\n",
      "[[28.63 23.02]\n",
      " [27.9  19.6 ]\n",
      " [27.57 21.4 ]\n",
      " [27.07 20.8 ]] [28.47 22.6 ]\n",
      "[[27.9  19.6 ]\n",
      " [27.57 21.4 ]\n",
      " [27.07 20.8 ]\n",
      " [28.47 22.6 ]] [28.17 22.63]\n",
      "[[27.57 21.4 ]\n",
      " [27.07 20.8 ]\n",
      " [28.47 22.6 ]\n",
      " [28.17 22.63]] [27.93 22.63]\n",
      "2\n"
     ]
    }
   ],
   "source": [
    "\n",
    "# convert into input/output\n",
    "x, y = split_sequences(data, n_steps)\n",
    "\n",
    "\n",
    "# print(data[20:23])\n",
    "for i in range(len(x)):\n",
    "\tprint(x[i], y[i])\n",
    "n_features=x.shape[2]\n",
    "# X.shape\n",
    "data.shape\n",
    "print(x.shape[2])"
   ]
  },
  {
   "cell_type": "code",
   "execution_count": 289,
   "metadata": {},
   "outputs": [
    {
     "name": "stdout",
     "output_type": "stream",
     "text": [
      "WARNING:tensorflow:Layer lstm_62 will not use cuDNN kernels since it doesn't meet the criteria. It will use a generic GPU kernel as fallback when running on GPU.\n",
      "WARNING:tensorflow:Layer lstm_63 will not use cuDNN kernels since it doesn't meet the criteria. It will use a generic GPU kernel as fallback when running on GPU.\n"
     ]
    }
   ],
   "source": [
    "model = Sequential()\n",
    "model.add(LSTM(100, activation='relu', return_sequences=True, input_shape=(n_steps, n_features) ))\n",
    "model.add(LSTM(100, activation='relu'))\n",
    "model.add(Dense(n_features))\n",
    "model.compile(optimizer='adam', loss='mse')"
   ]
  },
  {
   "cell_type": "code",
   "execution_count": 291,
   "metadata": {},
   "outputs": [
    {
     "data": {
      "text/plain": [
       "<tensorflow.python.keras.callbacks.History at 0x1b3c7baba20>"
      ]
     },
     "execution_count": 291,
     "metadata": {},
     "output_type": "execute_result"
    }
   ],
   "source": [
    "# fit model\n",
    "model.fit(x,y,epochs=1000, verbose=0)\n",
    "# demonstrate prediction"
   ]
  },
  {
   "cell_type": "code",
   "execution_count": 264,
   "metadata": {},
   "outputs": [
    {
     "name": "stdout",
     "output_type": "stream",
     "text": [
      "[[28.222849 20.298178]]\n"
     ]
    }
   ],
   "source": [
    "xinput=np.array([[27.37,23.29]\n",
    ",[28.77,20.87]\n",
    ",[28.73,22.41]\n",
    ",[28.13,20.35]])\n",
    "xinput = xinput.reshape((1, n_steps, n_features))\n",
    "temp = model.predict(xinput, verbose= 0)\n",
    "print(temp)\n"
   ]
  },
  {
   "cell_type": "code",
   "execution_count": 339,
   "metadata": {},
   "outputs": [
    {
     "name": "stdout",
     "output_type": "stream",
     "text": [
      "WARNING:tensorflow:Layer lstm_88 will not use cuDNN kernels since it doesn't meet the criteria. It will use a generic GPU kernel as fallback when running on GPU.\n",
      "WARNING:tensorflow:Layer lstm_89 will not use cuDNN kernels since it doesn't meet the criteria. It will use a generic GPU kernel as fallback when running on GPU.\n"
     ]
    }
   ],
   "source": [
    "newModel = Sequential()\n",
    "newModel.add(LSTM(100,activation='relu',input_shape=(1,4,2)))\n",
    "newModel.add(LSTM(100, activation='relu',stateful=True))\n",
    "newModel.add(Dense(2))\n",
    "newModel.compile(optimizer='adam', loss='mse')\n",
    "newModel.set_weights(model.get_weights())"
   ]
  },
  {
   "cell_type": "code",
   "execution_count": 340,
   "metadata": {},
   "outputs": [
    {
     "name": "stdout",
     "output_type": "stream",
     "text": [
      "[[27.57 21.4 ]\n",
      " [27.07 20.8 ]\n",
      " [28.47 22.6 ]\n",
      " [28.17 22.63]]\n",
      "[27.07       20.8        28.47       22.6        28.17       22.63\n",
      " 28.22284889 20.29817772]\n"
     ]
    }
   ],
   "source": [
    "newtemp = x[-1]\n",
    "print(newtemp)\n",
    "pp=np.delete(newtemp, obj=[0,0,1])\n",
    "pp=pp.flatten()\n",
    "pp=np.append(pp, values = temp.flatten())\n",
    "print(pp)\n",
    "pp.shape\n",
    "pp=pp.reshape((1, n_steps, n_features))\n",
    "\n"
   ]
  },
  {
   "cell_type": "code",
   "execution_count": 341,
   "metadata": {},
   "outputs": [],
   "source": [
    "predict_the_future = newModel.predict(pp, verbose=0)\n",
    "\n"
   ]
  },
  {
   "cell_type": "code",
   "execution_count": 342,
   "metadata": {},
   "outputs": [
    {
     "name": "stdout",
     "output_type": "stream",
     "text": [
      "[[28.039291 20.616282]]\n",
      "[[[27.07       20.8       ]\n",
      "  [28.47       22.6       ]\n",
      "  [28.17       22.63      ]\n",
      "  [28.03929138 20.61628151]]]\n",
      "[[[ 27.07        20.8       ]\n",
      "  [ 28.47        22.6       ]\n",
      "  [ 28.17        22.63      ]\n",
      "  [207.61372375 203.34968567]]]\n",
      "[[[  27.07         20.8       ]\n",
      "  [  28.47         22.6       ]\n",
      "  [  28.17         22.63      ]\n",
      "  [1865.75695801 1003.55029297]]]\n",
      "[[[   27.07          20.8       ]\n",
      "  [   28.47          22.6       ]\n",
      "  [   28.17          22.63      ]\n",
      "  [12625.20605469  6760.25634766]]]\n",
      "[[[2.70700000e+01 2.08000000e+01]\n",
      "  [2.84700000e+01 2.26000000e+01]\n",
      "  [2.81700000e+01 2.26300000e+01]\n",
      "  [6.79926484e+04 3.78163438e+04]]]\n",
      "[[[2.70700000e+01 2.08000000e+01]\n",
      "  [2.84700000e+01 2.26000000e+01]\n",
      "  [2.81700000e+01 2.26300000e+01]\n",
      "  [3.63062750e+05 2.20029375e+05]]]\n",
      "[[[2.70700000e+01 2.08000000e+01]\n",
      "  [2.84700000e+01 2.26000000e+01]\n",
      "  [2.81700000e+01 2.26300000e+01]\n",
      "  [1.87971638e+06 1.20487125e+06]]]\n",
      "[[[2.707000e+01 2.080000e+01]\n",
      "  [2.847000e+01 2.260000e+01]\n",
      "  [2.817000e+01 2.263000e+01]\n",
      "  [9.266094e+06 6.583118e+06]]]\n"
     ]
    }
   ],
   "source": [
    "print(predict_the_future)\n",
    "for i in range(8):\n",
    "    pp=np.delete(newtemp, obj=[0,0,1])\n",
    "    pp=pp.flatten()\n",
    "    pp=np.append(pp, values = predict_the_future.flatten())\n",
    "    pp=pp.reshape((1, n_steps, n_features))\n",
    "    print(pp)\n",
    "    predict_the_future = newModel.predict(pp, verbose=0)\n",
    "    "
   ]
  }
 ],
 "metadata": {
  "interpreter": {
   "hash": "f595d5af2f833065b3dc99e00e6ef100489811a3e3305d5059ce8c0cce6cb436"
  },
  "kernelspec": {
   "display_name": "Python 3.9.7 64-bit",
   "language": "python",
   "name": "python3"
  },
  "language_info": {
   "codemirror_mode": {
    "name": "ipython",
    "version": 3
   },
   "file_extension": ".py",
   "mimetype": "text/x-python",
   "name": "python",
   "nbconvert_exporter": "python",
   "pygments_lexer": "ipython3",
   "version": "3.9.7"
  },
  "orig_nbformat": 4
 },
 "nbformat": 4,
 "nbformat_minor": 2
}
